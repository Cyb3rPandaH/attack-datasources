{
 "cells": [
  {
   "cell_type": "markdown",
   "metadata": {},
   "source": [
    "# ATT&CK® Data Sources Definition\n",
    "\n",
    "---------------------------------"
   ]
  },
  {
   "cell_type": "markdown",
   "metadata": {},
   "source": [
    "* **Author**: Jose Luis Rodriguez - [@Cyb3rPandaH](https://twitter.com/Cyb3rPandaH)\n",
    "* **Organization**: [MITRE ATT&CK](https://attack.mitre.org/)\n",
    "* **Blog Reference**: \n",
    " - [Defining ATT&CK Data Sources, Part I: Enhancing the Current State](https://medium.com/mitre-attack/defining-attack-data-sources-part-i-4c39e581454f)\n",
    " - [Defining ATT&CK Data Sources, Part II: Operationalizing the Methodology](https://medium.com/mitre-attack/defining-attack-data-sources-part-ii-1fc98738ba5b)"
   ]
  },
  {
   "cell_type": "markdown",
   "metadata": {},
   "source": [
    "## Goal & Scope"
   ]
  },
  {
   "cell_type": "markdown",
   "metadata": {},
   "source": [
    "The present notebook is intended to provide basic examples of how can you merge **current data sources information** from **ATT&CK** and **new metadata** provided for **data source objects**. The examples provided consider (sub)techniques for the windows platform within the enterprise matrix."
   ]
  },
  {
   "cell_type": "markdown",
   "metadata": {},
   "source": [
    "## Requeriments"
   ]
  },
  {
   "cell_type": "markdown",
   "metadata": {},
   "source": [
    "* [Python 3](https://www.python.org)\n",
    "* [attackcti](https://pypi.org/project/attackcti/)\n",
    "* [pandas](https://pandas.pydata.org/)\n",
    "* [yaml](https://pyyaml.org/wiki/PyYAML)"
   ]
  },
  {
   "cell_type": "markdown",
   "metadata": {},
   "source": [
    "## First: Gathering current ATT&CK data sources metadata"
   ]
  },
  {
   "cell_type": "markdown",
   "metadata": {},
   "source": [
    "* Importing python libraries and modules"
   ]
  },
  {
   "cell_type": "code",
   "execution_count": 1,
   "metadata": {},
   "outputs": [],
   "source": [
    "# Importing library to interact with up to date ATT&CK content available in STIX format via public TAXII server\n",
    "from attackcti import attack_client\n",
    "\n",
    "# Importing library to manipulate data\n",
    "import pandas as pd\n",
    "from pandas import json_normalize"
   ]
  },
  {
   "cell_type": "markdown",
   "metadata": {},
   "source": [
    "* Getting (sub)techniques"
   ]
  },
  {
   "cell_type": "code",
   "execution_count": 2,
   "metadata": {},
   "outputs": [
    {
     "output_type": "execute_result",
     "data": {
      "text/plain": [
       "                                    tactic technique_id  \\\n",
       "0  [defense-evasion, privilege-escalation]    T1484.002   \n",
       "1  [defense-evasion, privilege-escalation]    T1484.001   \n",
       "2                      [credential-access]    T1606.002   \n",
       "3                      [credential-access]    T1606.001   \n",
       "4                      [credential-access]        T1606   \n",
       "\n",
       "                   technique  \\\n",
       "0  Domain Trust Modification   \n",
       "1  Group Policy Modification   \n",
       "2                SAML Tokens   \n",
       "3                Web Cookies   \n",
       "4      Forge Web Credentials   \n",
       "\n",
       "                                        data_sources  \n",
       "0  [Windows event logs, PowerShell logs, Azure ac...  \n",
       "1                               [Windows event logs]  \n",
       "2          [Windows event logs, Authentication logs]  \n",
       "3                    [Web logs, Authentication logs]  \n",
       "4                    [Web logs, Authentication logs]  "
      ],
      "text/html": "<div>\n<style scoped>\n    .dataframe tbody tr th:only-of-type {\n        vertical-align: middle;\n    }\n\n    .dataframe tbody tr th {\n        vertical-align: top;\n    }\n\n    .dataframe thead th {\n        text-align: right;\n    }\n</style>\n<table border=\"1\" class=\"dataframe\">\n  <thead>\n    <tr style=\"text-align: right;\">\n      <th></th>\n      <th>tactic</th>\n      <th>technique_id</th>\n      <th>technique</th>\n      <th>data_sources</th>\n    </tr>\n  </thead>\n  <tbody>\n    <tr>\n      <th>0</th>\n      <td>[defense-evasion, privilege-escalation]</td>\n      <td>T1484.002</td>\n      <td>Domain Trust Modification</td>\n      <td>[Windows event logs, PowerShell logs, Azure ac...</td>\n    </tr>\n    <tr>\n      <th>1</th>\n      <td>[defense-evasion, privilege-escalation]</td>\n      <td>T1484.001</td>\n      <td>Group Policy Modification</td>\n      <td>[Windows event logs]</td>\n    </tr>\n    <tr>\n      <th>2</th>\n      <td>[credential-access]</td>\n      <td>T1606.002</td>\n      <td>SAML Tokens</td>\n      <td>[Windows event logs, Authentication logs]</td>\n    </tr>\n    <tr>\n      <th>3</th>\n      <td>[credential-access]</td>\n      <td>T1606.001</td>\n      <td>Web Cookies</td>\n      <td>[Web logs, Authentication logs]</td>\n    </tr>\n    <tr>\n      <th>4</th>\n      <td>[credential-access]</td>\n      <td>T1606</td>\n      <td>Forge Web Credentials</td>\n      <td>[Web logs, Authentication logs]</td>\n    </tr>\n  </tbody>\n</table>\n</div>"
     },
     "metadata": {},
     "execution_count": 2
    }
   ],
   "source": [
    "# Instantiating attack_client class\n",
    "lift = attack_client()\n",
    "\n",
    "# Collecting all techniques (Revoked and not revoked) for windows platform within the enterprise matrix\n",
    "attck = lift.get_techniques_by_platform(name = 'Windows', stix_format = False)\n",
    "\n",
    "# Removing revoked techniques\n",
    "attck = lift.remove_revoked(attck)\n",
    "\n",
    "# Generating a dataframe with information collected\n",
    "attck = json_normalize(attck)\n",
    "\n",
    "# Selecting columns\n",
    "attck = attck[['tactic','technique_id','technique','data_sources']]\n",
    "\n",
    "# Showing information collected\n",
    "attck.head()"
   ]
  },
  {
   "cell_type": "markdown",
   "metadata": {},
   "source": [
    "* Splitting data_sources field"
   ]
  },
  {
   "cell_type": "code",
   "execution_count": 3,
   "metadata": {},
   "outputs": [
    {
     "output_type": "execute_result",
     "data": {
      "text/plain": [
       "                                    tactic technique_id  \\\n",
       "0  [defense-evasion, privilege-escalation]    T1484.002   \n",
       "1  [defense-evasion, privilege-escalation]    T1484.002   \n",
       "2  [defense-evasion, privilege-escalation]    T1484.002   \n",
       "3  [defense-evasion, privilege-escalation]    T1484.001   \n",
       "4                      [credential-access]    T1606.002   \n",
       "\n",
       "                   technique         data_sources  \n",
       "0  Domain Trust Modification   Windows event logs  \n",
       "1  Domain Trust Modification      PowerShell logs  \n",
       "2  Domain Trust Modification  Azure activity logs  \n",
       "3  Group Policy Modification   Windows event logs  \n",
       "4                SAML Tokens   Windows event logs  "
      ],
      "text/html": "<div>\n<style scoped>\n    .dataframe tbody tr th:only-of-type {\n        vertical-align: middle;\n    }\n\n    .dataframe tbody tr th {\n        vertical-align: top;\n    }\n\n    .dataframe thead th {\n        text-align: right;\n    }\n</style>\n<table border=\"1\" class=\"dataframe\">\n  <thead>\n    <tr style=\"text-align: right;\">\n      <th></th>\n      <th>tactic</th>\n      <th>technique_id</th>\n      <th>technique</th>\n      <th>data_sources</th>\n    </tr>\n  </thead>\n  <tbody>\n    <tr>\n      <th>0</th>\n      <td>[defense-evasion, privilege-escalation]</td>\n      <td>T1484.002</td>\n      <td>Domain Trust Modification</td>\n      <td>Windows event logs</td>\n    </tr>\n    <tr>\n      <th>1</th>\n      <td>[defense-evasion, privilege-escalation]</td>\n      <td>T1484.002</td>\n      <td>Domain Trust Modification</td>\n      <td>PowerShell logs</td>\n    </tr>\n    <tr>\n      <th>2</th>\n      <td>[defense-evasion, privilege-escalation]</td>\n      <td>T1484.002</td>\n      <td>Domain Trust Modification</td>\n      <td>Azure activity logs</td>\n    </tr>\n    <tr>\n      <th>3</th>\n      <td>[defense-evasion, privilege-escalation]</td>\n      <td>T1484.001</td>\n      <td>Group Policy Modification</td>\n      <td>Windows event logs</td>\n    </tr>\n    <tr>\n      <th>4</th>\n      <td>[credential-access]</td>\n      <td>T1606.002</td>\n      <td>SAML Tokens</td>\n      <td>Windows event logs</td>\n    </tr>\n  </tbody>\n</table>\n</div>"
     },
     "metadata": {},
     "execution_count": 3
    }
   ],
   "source": [
    "attck = attck.explode('data_sources').reset_index(drop=True)\n",
    "attck.head()"
   ]
  },
  {
   "cell_type": "markdown",
   "metadata": {},
   "source": [
    "## Second: Gathering new metadata of data source objects"
   ]
  },
  {
   "cell_type": "markdown",
   "metadata": {},
   "source": [
    "* Importing python libraries"
   ]
  },
  {
   "cell_type": "code",
   "execution_count": 4,
   "metadata": {},
   "outputs": [],
   "source": [
    "import yaml"
   ]
  },
  {
   "cell_type": "markdown",
   "metadata": {},
   "source": [
    "* Getting metadata of data source objects"
   ]
  },
  {
   "cell_type": "code",
   "execution_count": 5,
   "metadata": {
    "scrolled": false
   },
   "outputs": [
    {
     "output_type": "execute_result",
     "data": {
      "text/plain": [
       "               name                                         definition  \\\n",
       "0  Active Directory  Information associated with the Active Directo...   \n",
       "1   Application Log  Logs from events in third-party applications (...   \n",
       "2     Cloud Service  Information about a service available within a...   \n",
       "3     Cloud Storage  Information associated with data object storag...   \n",
       "4           Command  Information about commands that can be used th...   \n",
       "\n",
       "  collection_layers                                        platforms  \\\n",
       "0     [host, cloud]                              [Windows, Azure AD]   \n",
       "1     [host, cloud]  [Windows, Linux, MacOS, IaaS, SaaS, Office 365]   \n",
       "2           [cloud]               [IaaS, SaaS, Office 365, Azure AD]   \n",
       "3           [cloud]                                           [IaaS]   \n",
       "4            [host]                 [Windows, Linux, macOS, Network]   \n",
       "\n",
       "             contributors                                    data_components  \\\n",
       "0          [ATT&CK, CTID]  [{'name': 'active directory object creation', ...   \n",
       "1                [ATT&CK]  [{'name': 'application log content', 'type': '...   \n",
       "2          [ATT&CK, CTID]  [{'name': 'cloud service metadata', 'type': 'i...   \n",
       "3          [ATT&CK, CTID]  [{'name': 'cloud storage creation', 'type': 'a...   \n",
       "4  [Austin Clark, ATT&CK]  [{'name': 'command execution', 'type': 'activi...   \n",
       "\n",
       "                                          references  \n",
       "0  [https://docs.microsoft.com/en-us/windows-serv...  \n",
       "1  [https://confluence.atlassian.com/doc/working-...  \n",
       "2  [https://aws.amazon.com, https://azure.microso...  \n",
       "3  [https://aws.amazon.com/s3/, https://azure.mic...  \n",
       "4  [https://tools.ietf.org/id/draft-ietf-opsawg-t...  "
      ],
      "text/html": "<div>\n<style scoped>\n    .dataframe tbody tr th:only-of-type {\n        vertical-align: middle;\n    }\n\n    .dataframe tbody tr th {\n        vertical-align: top;\n    }\n\n    .dataframe thead th {\n        text-align: right;\n    }\n</style>\n<table border=\"1\" class=\"dataframe\">\n  <thead>\n    <tr style=\"text-align: right;\">\n      <th></th>\n      <th>name</th>\n      <th>definition</th>\n      <th>collection_layers</th>\n      <th>platforms</th>\n      <th>contributors</th>\n      <th>data_components</th>\n      <th>references</th>\n    </tr>\n  </thead>\n  <tbody>\n    <tr>\n      <th>0</th>\n      <td>Active Directory</td>\n      <td>Information associated with the Active Directo...</td>\n      <td>[host, cloud]</td>\n      <td>[Windows, Azure AD]</td>\n      <td>[ATT&amp;CK, CTID]</td>\n      <td>[{'name': 'active directory object creation', ...</td>\n      <td>[https://docs.microsoft.com/en-us/windows-serv...</td>\n    </tr>\n    <tr>\n      <th>1</th>\n      <td>Application Log</td>\n      <td>Logs from events in third-party applications (...</td>\n      <td>[host, cloud]</td>\n      <td>[Windows, Linux, MacOS, IaaS, SaaS, Office 365]</td>\n      <td>[ATT&amp;CK]</td>\n      <td>[{'name': 'application log content', 'type': '...</td>\n      <td>[https://confluence.atlassian.com/doc/working-...</td>\n    </tr>\n    <tr>\n      <th>2</th>\n      <td>Cloud Service</td>\n      <td>Information about a service available within a...</td>\n      <td>[cloud]</td>\n      <td>[IaaS, SaaS, Office 365, Azure AD]</td>\n      <td>[ATT&amp;CK, CTID]</td>\n      <td>[{'name': 'cloud service metadata', 'type': 'i...</td>\n      <td>[https://aws.amazon.com, https://azure.microso...</td>\n    </tr>\n    <tr>\n      <th>3</th>\n      <td>Cloud Storage</td>\n      <td>Information associated with data object storag...</td>\n      <td>[cloud]</td>\n      <td>[IaaS]</td>\n      <td>[ATT&amp;CK, CTID]</td>\n      <td>[{'name': 'cloud storage creation', 'type': 'a...</td>\n      <td>[https://aws.amazon.com/s3/, https://azure.mic...</td>\n    </tr>\n    <tr>\n      <th>4</th>\n      <td>Command</td>\n      <td>Information about commands that can be used th...</td>\n      <td>[host]</td>\n      <td>[Windows, Linux, macOS, Network]</td>\n      <td>[Austin Clark, ATT&amp;CK]</td>\n      <td>[{'name': 'command execution', 'type': 'activi...</td>\n      <td>[https://tools.ietf.org/id/draft-ietf-opsawg-t...</td>\n    </tr>\n  </tbody>\n</table>\n</div>"
     },
     "metadata": {},
     "execution_count": 5
    }
   ],
   "source": [
    "filePath = 'attack_data_sources.yaml'\n",
    "yamlFile = open(filePath, 'r')\n",
    "metadata = yaml.safe_load(yamlFile)\n",
    "metadata = json_normalize(metadata)\n",
    "yamlFile.close()\n",
    "metadata.head()"
   ]
  },
  {
   "cell_type": "markdown",
   "metadata": {},
   "source": [
    "* Splitting data components content"
   ]
  },
  {
   "cell_type": "code",
   "execution_count": 6,
   "metadata": {},
   "outputs": [
    {
     "output_type": "execute_result",
     "data": {
      "text/plain": [
       "                        data_components  \\\n",
       "0      active directory object creation   \n",
       "1      active directory object deletion   \n",
       "2  active directory object modification   \n",
       "3   active directory credential request   \n",
       "4        active directory object access   \n",
       "\n",
       "                                         description      type  \\\n",
       "0            An active directory object was created.  activity   \n",
       "1             An active directory object was deleted  activity   \n",
       "2  An active directory service or object was modi...  activity   \n",
       "3  A user requested active directory credentials,...  activity   \n",
       "4           An active directory object was accessed.  activity   \n",
       "\n",
       "       data_sources                                         definition  \\\n",
       "0  Active Directory  Information associated with the Active Directo...   \n",
       "1  Active Directory  Information associated with the Active Directo...   \n",
       "2  Active Directory  Information associated with the Active Directo...   \n",
       "3  Active Directory  Information associated with the Active Directo...   \n",
       "4  Active Directory  Information associated with the Active Directo...   \n",
       "\n",
       "  collection_layers            platforms    contributors  \\\n",
       "0     [host, cloud]  [Windows, Azure AD]  [ATT&CK, CTID]   \n",
       "1     [host, cloud]  [Windows, Azure AD]  [ATT&CK, CTID]   \n",
       "2     [host, cloud]  [Windows, Azure AD]  [ATT&CK, CTID]   \n",
       "3     [host, cloud]  [Windows, Azure AD]  [ATT&CK, CTID]   \n",
       "4     [host, cloud]  [Windows, Azure AD]  [ATT&CK, CTID]   \n",
       "\n",
       "                                          references  \\\n",
       "0  [https://docs.microsoft.com/en-us/windows-serv...   \n",
       "1  [https://docs.microsoft.com/en-us/windows-serv...   \n",
       "2  [https://docs.microsoft.com/en-us/windows-serv...   \n",
       "3  [https://docs.microsoft.com/en-us/windows-serv...   \n",
       "4  [https://docs.microsoft.com/en-us/windows-serv...   \n",
       "\n",
       "                  relationships  \n",
       "0        user-created-ad object  \n",
       "1        user-deleted-ad object  \n",
       "2       user-modified-ad object  \n",
       "3  user-requested-ad credential  \n",
       "4       user-accessed-ad object  "
      ],
      "text/html": "<div>\n<style scoped>\n    .dataframe tbody tr th:only-of-type {\n        vertical-align: middle;\n    }\n\n    .dataframe tbody tr th {\n        vertical-align: top;\n    }\n\n    .dataframe thead th {\n        text-align: right;\n    }\n</style>\n<table border=\"1\" class=\"dataframe\">\n  <thead>\n    <tr style=\"text-align: right;\">\n      <th></th>\n      <th>data_components</th>\n      <th>description</th>\n      <th>type</th>\n      <th>data_sources</th>\n      <th>definition</th>\n      <th>collection_layers</th>\n      <th>platforms</th>\n      <th>contributors</th>\n      <th>references</th>\n      <th>relationships</th>\n    </tr>\n  </thead>\n  <tbody>\n    <tr>\n      <th>0</th>\n      <td>active directory object creation</td>\n      <td>An active directory object was created.</td>\n      <td>activity</td>\n      <td>Active Directory</td>\n      <td>Information associated with the Active Directo...</td>\n      <td>[host, cloud]</td>\n      <td>[Windows, Azure AD]</td>\n      <td>[ATT&amp;CK, CTID]</td>\n      <td>[https://docs.microsoft.com/en-us/windows-serv...</td>\n      <td>user-created-ad object</td>\n    </tr>\n    <tr>\n      <th>1</th>\n      <td>active directory object deletion</td>\n      <td>An active directory object was deleted</td>\n      <td>activity</td>\n      <td>Active Directory</td>\n      <td>Information associated with the Active Directo...</td>\n      <td>[host, cloud]</td>\n      <td>[Windows, Azure AD]</td>\n      <td>[ATT&amp;CK, CTID]</td>\n      <td>[https://docs.microsoft.com/en-us/windows-serv...</td>\n      <td>user-deleted-ad object</td>\n    </tr>\n    <tr>\n      <th>2</th>\n      <td>active directory object modification</td>\n      <td>An active directory service or object was modi...</td>\n      <td>activity</td>\n      <td>Active Directory</td>\n      <td>Information associated with the Active Directo...</td>\n      <td>[host, cloud]</td>\n      <td>[Windows, Azure AD]</td>\n      <td>[ATT&amp;CK, CTID]</td>\n      <td>[https://docs.microsoft.com/en-us/windows-serv...</td>\n      <td>user-modified-ad object</td>\n    </tr>\n    <tr>\n      <th>3</th>\n      <td>active directory credential request</td>\n      <td>A user requested active directory credentials,...</td>\n      <td>activity</td>\n      <td>Active Directory</td>\n      <td>Information associated with the Active Directo...</td>\n      <td>[host, cloud]</td>\n      <td>[Windows, Azure AD]</td>\n      <td>[ATT&amp;CK, CTID]</td>\n      <td>[https://docs.microsoft.com/en-us/windows-serv...</td>\n      <td>user-requested-ad credential</td>\n    </tr>\n    <tr>\n      <th>4</th>\n      <td>active directory object access</td>\n      <td>An active directory object was accessed.</td>\n      <td>activity</td>\n      <td>Active Directory</td>\n      <td>Information associated with the Active Directo...</td>\n      <td>[host, cloud]</td>\n      <td>[Windows, Azure AD]</td>\n      <td>[ATT&amp;CK, CTID]</td>\n      <td>[https://docs.microsoft.com/en-us/windows-serv...</td>\n      <td>user-accessed-ad object</td>\n    </tr>\n  </tbody>\n</table>\n</div>"
     },
     "metadata": {},
     "execution_count": 6
    }
   ],
   "source": [
    "# Splitting rows for data_components list\n",
    "metadata = metadata.explode('data_components').reset_index(drop=True).rename(columns={'name':'data_sources'})\n",
    "\n",
    "# Splitting columns for data_components dict\n",
    "metadata = metadata['data_components'].apply(pd.Series).merge(metadata,left_index=True,right_index=True)\\\n",
    ".reset_index(drop=True).drop(['data_components'], axis = 1).rename(columns={'name':'data_components'})\n",
    "\n",
    "# Splitting rows for relationships list\n",
    "metadata = metadata.explode('relationships').reset_index(drop=True)\n",
    "\n",
    "# Splitting columns for relationships dict\n",
    "metadata = metadata['relationships'].apply(pd.Series).merge(metadata,left_index=True,right_index=True)\\\n",
    ".reset_index(drop=True).drop(['relationships'], axis = 1)\n",
    "\n",
    "# Replacing Null values in target_data_element\n",
    "metadata['target_data_element'].fillna(' ', inplace = True)\n",
    "\n",
    "# Concatenating: Source + Relationship + Target\n",
    "metadata['relationships'] = metadata['source_data_element']+'-'+metadata['relationship']+'-'+\\\n",
    "                            metadata['target_data_element']\n",
    "\n",
    "# Deleting columns\n",
    "dataSources = metadata.drop(['source_data_element','relationship','target_data_element'], axis = 1)\n",
    "\n",
    "dataSources.head()"
   ]
  },
  {
   "cell_type": "markdown",
   "metadata": {},
   "source": [
    "## Third: Mapping (sub)techniques to data components & relationships"
   ]
  },
  {
   "cell_type": "markdown",
   "metadata": {},
   "source": [
    "* Getting new data sources names"
   ]
  },
  {
   "cell_type": "markdown",
   "metadata": {},
   "source": [
    "According to the propossed methodoly, data sources names shoud make reference to the main data element they are related. Because of this, some of the current names might change. Therefore, in order to relate **(sub)techniques** to **data components**, we need update data sources names. We are providing a yaml file with data sources which names have been changed. We will use this file to update the content of our data frame."
   ]
  },
  {
   "cell_type": "code",
   "execution_count": 7,
   "metadata": {},
   "outputs": [
    {
     "output_type": "execute_result",
     "data": {
      "text/plain": [
       "               data_sources        new_names\n",
       "0  Sensor health and status    Sensor Health\n",
       "1             Access tokens   Web Credential\n",
       "2           PowerShell logs   Powershell Log\n",
       "3            API monitoring          Process\n",
       "4          Application logs  Application Log"
      ],
      "text/html": "<div>\n<style scoped>\n    .dataframe tbody tr th:only-of-type {\n        vertical-align: middle;\n    }\n\n    .dataframe tbody tr th {\n        vertical-align: top;\n    }\n\n    .dataframe thead th {\n        text-align: right;\n    }\n</style>\n<table border=\"1\" class=\"dataframe\">\n  <thead>\n    <tr style=\"text-align: right;\">\n      <th></th>\n      <th>data_sources</th>\n      <th>new_names</th>\n    </tr>\n  </thead>\n  <tbody>\n    <tr>\n      <th>0</th>\n      <td>Sensor health and status</td>\n      <td>Sensor Health</td>\n    </tr>\n    <tr>\n      <th>1</th>\n      <td>Access tokens</td>\n      <td>Web Credential</td>\n    </tr>\n    <tr>\n      <th>2</th>\n      <td>PowerShell logs</td>\n      <td>Powershell Log</td>\n    </tr>\n    <tr>\n      <th>3</th>\n      <td>API monitoring</td>\n      <td>Process</td>\n    </tr>\n    <tr>\n      <th>4</th>\n      <td>Application logs</td>\n      <td>Application Log</td>\n    </tr>\n  </tbody>\n</table>\n</div>"
     },
     "metadata": {},
     "execution_count": 7
    }
   ],
   "source": [
    "namesPath = 'new_data_sources_names.yaml'\n",
    "yamlNamesFile = open(namesPath, 'r')\n",
    "names = yaml.safe_load(yamlNamesFile)\n",
    "yamlNamesFile.close()\n",
    "names = pd.DataFrame(list(names[0].items()), columns=['data_sources', 'new_names'])\n",
    "names.head()"
   ]
  },
  {
   "cell_type": "markdown",
   "metadata": {},
   "source": [
    "* Updating data sources names"
   ]
  },
  {
   "cell_type": "code",
   "execution_count": 8,
   "metadata": {},
   "outputs": [
    {
     "output_type": "execute_result",
     "data": {
      "text/plain": [
       "                                    tactic technique_id  \\\n",
       "0          [credential-access, collection]    T1557.002   \n",
       "1          [credential-access, collection]    T1557.002   \n",
       "2                      [credential-access]    T1558.004   \n",
       "3                      [credential-access]    T1558.004   \n",
       "4  [privilege-escalation, defense-evasion]        T1548   \n",
       "\n",
       "                           technique             data_sources  \n",
       "0                ARP Cache Poisoning  Netflow/Enclave netflow  \n",
       "1                ARP Cache Poisoning           Packet capture  \n",
       "2                    AS-REP Roasting            Logon Session  \n",
       "3                    AS-REP Roasting       Windows event logs  \n",
       "4  Abuse Elevation Control Mechanism                     File  "
      ],
      "text/html": "<div>\n<style scoped>\n    .dataframe tbody tr th:only-of-type {\n        vertical-align: middle;\n    }\n\n    .dataframe tbody tr th {\n        vertical-align: top;\n    }\n\n    .dataframe thead th {\n        text-align: right;\n    }\n</style>\n<table border=\"1\" class=\"dataframe\">\n  <thead>\n    <tr style=\"text-align: right;\">\n      <th></th>\n      <th>tactic</th>\n      <th>technique_id</th>\n      <th>technique</th>\n      <th>data_sources</th>\n    </tr>\n  </thead>\n  <tbody>\n    <tr>\n      <th>0</th>\n      <td>[credential-access, collection]</td>\n      <td>T1557.002</td>\n      <td>ARP Cache Poisoning</td>\n      <td>Netflow/Enclave netflow</td>\n    </tr>\n    <tr>\n      <th>1</th>\n      <td>[credential-access, collection]</td>\n      <td>T1557.002</td>\n      <td>ARP Cache Poisoning</td>\n      <td>Packet capture</td>\n    </tr>\n    <tr>\n      <th>2</th>\n      <td>[credential-access]</td>\n      <td>T1558.004</td>\n      <td>AS-REP Roasting</td>\n      <td>Logon Session</td>\n    </tr>\n    <tr>\n      <th>3</th>\n      <td>[credential-access]</td>\n      <td>T1558.004</td>\n      <td>AS-REP Roasting</td>\n      <td>Windows event logs</td>\n    </tr>\n    <tr>\n      <th>4</th>\n      <td>[privilege-escalation, defense-evasion]</td>\n      <td>T1548</td>\n      <td>Abuse Elevation Control Mechanism</td>\n      <td>File</td>\n    </tr>\n  </tbody>\n</table>\n</div>"
     },
     "metadata": {},
     "execution_count": 8
    }
   ],
   "source": [
    "attck = pd.merge(attck, names, on = 'data_sources', how = 'left')\n",
    "namesUpdate = attck['new_names'].fillna(attck['data_sources'])\n",
    "attck = attck.drop(columns = ['new_names']).assign(data_sources = namesUpdate)\n",
    "attck = attck.drop_duplicates(subset = ['technique_id','data_sources'])\\\n",
    "        .sort_values(by = ['technique'])\\\n",
    "        .reset_index(drop = True)\n",
    "attck.head()"
   ]
  },
  {
   "cell_type": "markdown",
   "metadata": {},
   "source": [
    "* Mapping techniques to data components and relationships"
   ]
  },
  {
   "cell_type": "code",
   "execution_count": 9,
   "metadata": {},
   "outputs": [
    {
     "output_type": "execute_result",
     "data": {
      "text/plain": [
       "                            tactic technique_id            technique  \\\n",
       "0  [credential-access, collection]    T1557.002  ARP Cache Poisoning   \n",
       "1  [credential-access, collection]    T1557.002  ARP Cache Poisoning   \n",
       "2              [credential-access]    T1558.004      AS-REP Roasting   \n",
       "3              [credential-access]    T1558.004      AS-REP Roasting   \n",
       "4              [credential-access]    T1558.004      AS-REP Roasting   \n",
       "\n",
       "              data_sources         data_components  \\\n",
       "0  Netflow/Enclave netflow                     NaN   \n",
       "1           Packet capture                     NaN   \n",
       "2            Logon Session  logon session metadata   \n",
       "3            Logon Session  logon session creation   \n",
       "4            Logon Session  logon session creation   \n",
       "\n",
       "                                    relationships  \n",
       "0                                             NaN  \n",
       "1                                             NaN  \n",
       "2  user-retrieved information about-logon session  \n",
       "3                      user-created-logon session  \n",
       "4              user-created logon session from-ip  "
      ],
      "text/html": "<div>\n<style scoped>\n    .dataframe tbody tr th:only-of-type {\n        vertical-align: middle;\n    }\n\n    .dataframe tbody tr th {\n        vertical-align: top;\n    }\n\n    .dataframe thead th {\n        text-align: right;\n    }\n</style>\n<table border=\"1\" class=\"dataframe\">\n  <thead>\n    <tr style=\"text-align: right;\">\n      <th></th>\n      <th>tactic</th>\n      <th>technique_id</th>\n      <th>technique</th>\n      <th>data_sources</th>\n      <th>data_components</th>\n      <th>relationships</th>\n    </tr>\n  </thead>\n  <tbody>\n    <tr>\n      <th>0</th>\n      <td>[credential-access, collection]</td>\n      <td>T1557.002</td>\n      <td>ARP Cache Poisoning</td>\n      <td>Netflow/Enclave netflow</td>\n      <td>NaN</td>\n      <td>NaN</td>\n    </tr>\n    <tr>\n      <th>1</th>\n      <td>[credential-access, collection]</td>\n      <td>T1557.002</td>\n      <td>ARP Cache Poisoning</td>\n      <td>Packet capture</td>\n      <td>NaN</td>\n      <td>NaN</td>\n    </tr>\n    <tr>\n      <th>2</th>\n      <td>[credential-access]</td>\n      <td>T1558.004</td>\n      <td>AS-REP Roasting</td>\n      <td>Logon Session</td>\n      <td>logon session metadata</td>\n      <td>user-retrieved information about-logon session</td>\n    </tr>\n    <tr>\n      <th>3</th>\n      <td>[credential-access]</td>\n      <td>T1558.004</td>\n      <td>AS-REP Roasting</td>\n      <td>Logon Session</td>\n      <td>logon session creation</td>\n      <td>user-created-logon session</td>\n    </tr>\n    <tr>\n      <th>4</th>\n      <td>[credential-access]</td>\n      <td>T1558.004</td>\n      <td>AS-REP Roasting</td>\n      <td>Logon Session</td>\n      <td>logon session creation</td>\n      <td>user-created logon session from-ip</td>\n    </tr>\n  </tbody>\n</table>\n</div>"
     },
     "metadata": {},
     "execution_count": 9
    }
   ],
   "source": [
    "techniques = pd.merge(attck, dataSources, on = 'data_sources', how = 'left')\\\n",
    "             [['tactic','technique_id','technique','data_sources','data_components','relationships']]\n",
    "\n",
    "techniques.head()"
   ]
  },
  {
   "cell_type": "markdown",
   "metadata": {},
   "source": [
    "## Use case: T1112 Modify Registry"
   ]
  },
  {
   "cell_type": "markdown",
   "metadata": {},
   "source": [
    "* What are the recommended data sources?"
   ]
  },
  {
   "cell_type": "code",
   "execution_count": 10,
   "metadata": {},
   "outputs": [
    {
     "output_type": "execute_result",
     "data": {
      "text/plain": [
       "                tactic technique_id        technique        data_sources\n",
       "810  [defense-evasion]        T1112  Modify Registry                File\n",
       "811  [defense-evasion]        T1112  Modify Registry    Windows Registry\n",
       "812  [defense-evasion]        T1112  Modify Registry             Process\n",
       "813  [defense-evasion]        T1112  Modify Registry             Command\n",
       "814  [defense-evasion]        T1112  Modify Registry  Windows event logs"
      ],
      "text/html": "<div>\n<style scoped>\n    .dataframe tbody tr th:only-of-type {\n        vertical-align: middle;\n    }\n\n    .dataframe tbody tr th {\n        vertical-align: top;\n    }\n\n    .dataframe thead th {\n        text-align: right;\n    }\n</style>\n<table border=\"1\" class=\"dataframe\">\n  <thead>\n    <tr style=\"text-align: right;\">\n      <th></th>\n      <th>tactic</th>\n      <th>technique_id</th>\n      <th>technique</th>\n      <th>data_sources</th>\n    </tr>\n  </thead>\n  <tbody>\n    <tr>\n      <th>810</th>\n      <td>[defense-evasion]</td>\n      <td>T1112</td>\n      <td>Modify Registry</td>\n      <td>File</td>\n    </tr>\n    <tr>\n      <th>811</th>\n      <td>[defense-evasion]</td>\n      <td>T1112</td>\n      <td>Modify Registry</td>\n      <td>Windows Registry</td>\n    </tr>\n    <tr>\n      <th>812</th>\n      <td>[defense-evasion]</td>\n      <td>T1112</td>\n      <td>Modify Registry</td>\n      <td>Process</td>\n    </tr>\n    <tr>\n      <th>813</th>\n      <td>[defense-evasion]</td>\n      <td>T1112</td>\n      <td>Modify Registry</td>\n      <td>Command</td>\n    </tr>\n    <tr>\n      <th>814</th>\n      <td>[defense-evasion]</td>\n      <td>T1112</td>\n      <td>Modify Registry</td>\n      <td>Windows event logs</td>\n    </tr>\n  </tbody>\n</table>\n</div>"
     },
     "metadata": {},
     "execution_count": 10
    }
   ],
   "source": [
    "attck[attck['technique_id'] == 'T1112']"
   ]
  },
  {
   "cell_type": "markdown",
   "metadata": {},
   "source": [
    "* What are the available data components and relationships?"
   ]
  },
  {
   "cell_type": "code",
   "execution_count": 11,
   "metadata": {
    "scrolled": false
   },
   "outputs": [
    {
     "output_type": "execute_result",
     "data": {
      "text/plain": [
       "                 tactic technique_id        technique        data_sources  \\\n",
       "4595  [defense-evasion]        T1112  Modify Registry                File   \n",
       "4596  [defense-evasion]        T1112  Modify Registry                File   \n",
       "4597  [defense-evasion]        T1112  Modify Registry                File   \n",
       "4598  [defense-evasion]        T1112  Modify Registry                File   \n",
       "4599  [defense-evasion]        T1112  Modify Registry                File   \n",
       "4600  [defense-evasion]        T1112  Modify Registry                File   \n",
       "4601  [defense-evasion]        T1112  Modify Registry                File   \n",
       "4602  [defense-evasion]        T1112  Modify Registry                File   \n",
       "4603  [defense-evasion]        T1112  Modify Registry                File   \n",
       "4604  [defense-evasion]        T1112  Modify Registry                File   \n",
       "4605  [defense-evasion]        T1112  Modify Registry                File   \n",
       "4606  [defense-evasion]        T1112  Modify Registry                File   \n",
       "4607  [defense-evasion]        T1112  Modify Registry                File   \n",
       "4608  [defense-evasion]        T1112  Modify Registry                File   \n",
       "4609  [defense-evasion]        T1112  Modify Registry    Windows Registry   \n",
       "4610  [defense-evasion]        T1112  Modify Registry    Windows Registry   \n",
       "4611  [defense-evasion]        T1112  Modify Registry    Windows Registry   \n",
       "4612  [defense-evasion]        T1112  Modify Registry    Windows Registry   \n",
       "4613  [defense-evasion]        T1112  Modify Registry    Windows Registry   \n",
       "4614  [defense-evasion]        T1112  Modify Registry    Windows Registry   \n",
       "4615  [defense-evasion]        T1112  Modify Registry    Windows Registry   \n",
       "4616  [defense-evasion]        T1112  Modify Registry    Windows Registry   \n",
       "4617  [defense-evasion]        T1112  Modify Registry    Windows Registry   \n",
       "4618  [defense-evasion]        T1112  Modify Registry    Windows Registry   \n",
       "4619  [defense-evasion]        T1112  Modify Registry    Windows Registry   \n",
       "4620  [defense-evasion]        T1112  Modify Registry    Windows Registry   \n",
       "4621  [defense-evasion]        T1112  Modify Registry    Windows Registry   \n",
       "4622  [defense-evasion]        T1112  Modify Registry             Process   \n",
       "4623  [defense-evasion]        T1112  Modify Registry             Process   \n",
       "4624  [defense-evasion]        T1112  Modify Registry             Process   \n",
       "4625  [defense-evasion]        T1112  Modify Registry             Process   \n",
       "4626  [defense-evasion]        T1112  Modify Registry             Process   \n",
       "4627  [defense-evasion]        T1112  Modify Registry             Process   \n",
       "4628  [defense-evasion]        T1112  Modify Registry             Process   \n",
       "4629  [defense-evasion]        T1112  Modify Registry             Process   \n",
       "4630  [defense-evasion]        T1112  Modify Registry             Process   \n",
       "4631  [defense-evasion]        T1112  Modify Registry             Process   \n",
       "4632  [defense-evasion]        T1112  Modify Registry             Command   \n",
       "4633  [defense-evasion]        T1112  Modify Registry             Command   \n",
       "4634  [defense-evasion]        T1112  Modify Registry  Windows event logs   \n",
       "\n",
       "                        data_components  \\\n",
       "4595                       file content   \n",
       "4596                       file content   \n",
       "4597                      file metadata   \n",
       "4598                      file metadata   \n",
       "4599                      file metadata   \n",
       "4600                      file creation   \n",
       "4601                      file deletion   \n",
       "4602                      file deletion   \n",
       "4603                        file access   \n",
       "4604                        file access   \n",
       "4605                        file access   \n",
       "4606                        file access   \n",
       "4607                  file modification   \n",
       "4608                  file modification   \n",
       "4609      windows registry key creation   \n",
       "4610      windows registry key creation   \n",
       "4611      windows registry key deletion   \n",
       "4612      windows registry key deletion   \n",
       "4613      windows registry key deletion   \n",
       "4614  windows registry key modification   \n",
       "4615  windows registry key modification   \n",
       "4616  windows registry key modification   \n",
       "4617  windows registry key modification   \n",
       "4618        Windows registry key access   \n",
       "4619        Windows registry key access   \n",
       "4620        Windows registry key access   \n",
       "4621        Windows registry key access   \n",
       "4622                   process metadata   \n",
       "4623                   process creation   \n",
       "4624                   process creation   \n",
       "4625                   process creation   \n",
       "4626                process termination   \n",
       "4627               process modification   \n",
       "4628                     process access   \n",
       "4629                     process access   \n",
       "4630                   OS api execution   \n",
       "4631                   OS api execution   \n",
       "4632                  command execution   \n",
       "4633                  command execution   \n",
       "4634                                NaN   \n",
       "\n",
       "                                         relationships  \n",
       "4595          process-retrieved information about-file  \n",
       "4596             user-retrieved information about-file  \n",
       "4597                       process-created-file stream  \n",
       "4598          process-retrieved information about-file  \n",
       "4599             user-retrieved information about-file  \n",
       "4600                              process-created-file  \n",
       "4601                              process-deleted-file  \n",
       "4602                                 user-deleted-file  \n",
       "4603                                user-accessed-file  \n",
       "4604                             process-accessed-file  \n",
       "4605                     user-requested access to-file  \n",
       "4606                  process-requested access to-file  \n",
       "4607                             process-modified-file  \n",
       "4608                                user-modified-file  \n",
       "4609              process-created-windows registry key  \n",
       "4610        process-created-windows registry key value  \n",
       "4611                 user-deleted-windows registry key  \n",
       "4612              process-deleted-windows registry key  \n",
       "4613        process-deleted-windows registry key value  \n",
       "4614             process-modified-windows registry key  \n",
       "4615       process-modified-windows registry key value  \n",
       "4616                user-modified-windows registry key  \n",
       "4617          user-modified-windows registry key value  \n",
       "4618             process-accessed-windows registry key  \n",
       "4619                user-accessed-windows registry key  \n",
       "4620  process-requested access to-windows registry key  \n",
       "4621     user-requested access to-windows registry key  \n",
       "4622          user-retrieved information about-process  \n",
       "4623                              user-created-process  \n",
       "4624                           process-created-process  \n",
       "4625                            process-created-thread  \n",
       "4626                           user-terminated-process  \n",
       "4627                          process-modified-process  \n",
       "4628                          process-accessed-process  \n",
       "4629               process-requested access to-process  \n",
       "4630                         process-executed-api call  \n",
       "4631                      process-executed-system call  \n",
       "4632                             user-executed-command  \n",
       "4633                          process-executed-command  \n",
       "4634                                               NaN  "
      ],
      "text/html": "<div>\n<style scoped>\n    .dataframe tbody tr th:only-of-type {\n        vertical-align: middle;\n    }\n\n    .dataframe tbody tr th {\n        vertical-align: top;\n    }\n\n    .dataframe thead th {\n        text-align: right;\n    }\n</style>\n<table border=\"1\" class=\"dataframe\">\n  <thead>\n    <tr style=\"text-align: right;\">\n      <th></th>\n      <th>tactic</th>\n      <th>technique_id</th>\n      <th>technique</th>\n      <th>data_sources</th>\n      <th>data_components</th>\n      <th>relationships</th>\n    </tr>\n  </thead>\n  <tbody>\n    <tr>\n      <th>4595</th>\n      <td>[defense-evasion]</td>\n      <td>T1112</td>\n      <td>Modify Registry</td>\n      <td>File</td>\n      <td>file content</td>\n      <td>process-retrieved information about-file</td>\n    </tr>\n    <tr>\n      <th>4596</th>\n      <td>[defense-evasion]</td>\n      <td>T1112</td>\n      <td>Modify Registry</td>\n      <td>File</td>\n      <td>file content</td>\n      <td>user-retrieved information about-file</td>\n    </tr>\n    <tr>\n      <th>4597</th>\n      <td>[defense-evasion]</td>\n      <td>T1112</td>\n      <td>Modify Registry</td>\n      <td>File</td>\n      <td>file metadata</td>\n      <td>process-created-file stream</td>\n    </tr>\n    <tr>\n      <th>4598</th>\n      <td>[defense-evasion]</td>\n      <td>T1112</td>\n      <td>Modify Registry</td>\n      <td>File</td>\n      <td>file metadata</td>\n      <td>process-retrieved information about-file</td>\n    </tr>\n    <tr>\n      <th>4599</th>\n      <td>[defense-evasion]</td>\n      <td>T1112</td>\n      <td>Modify Registry</td>\n      <td>File</td>\n      <td>file metadata</td>\n      <td>user-retrieved information about-file</td>\n    </tr>\n    <tr>\n      <th>4600</th>\n      <td>[defense-evasion]</td>\n      <td>T1112</td>\n      <td>Modify Registry</td>\n      <td>File</td>\n      <td>file creation</td>\n      <td>process-created-file</td>\n    </tr>\n    <tr>\n      <th>4601</th>\n      <td>[defense-evasion]</td>\n      <td>T1112</td>\n      <td>Modify Registry</td>\n      <td>File</td>\n      <td>file deletion</td>\n      <td>process-deleted-file</td>\n    </tr>\n    <tr>\n      <th>4602</th>\n      <td>[defense-evasion]</td>\n      <td>T1112</td>\n      <td>Modify Registry</td>\n      <td>File</td>\n      <td>file deletion</td>\n      <td>user-deleted-file</td>\n    </tr>\n    <tr>\n      <th>4603</th>\n      <td>[defense-evasion]</td>\n      <td>T1112</td>\n      <td>Modify Registry</td>\n      <td>File</td>\n      <td>file access</td>\n      <td>user-accessed-file</td>\n    </tr>\n    <tr>\n      <th>4604</th>\n      <td>[defense-evasion]</td>\n      <td>T1112</td>\n      <td>Modify Registry</td>\n      <td>File</td>\n      <td>file access</td>\n      <td>process-accessed-file</td>\n    </tr>\n    <tr>\n      <th>4605</th>\n      <td>[defense-evasion]</td>\n      <td>T1112</td>\n      <td>Modify Registry</td>\n      <td>File</td>\n      <td>file access</td>\n      <td>user-requested access to-file</td>\n    </tr>\n    <tr>\n      <th>4606</th>\n      <td>[defense-evasion]</td>\n      <td>T1112</td>\n      <td>Modify Registry</td>\n      <td>File</td>\n      <td>file access</td>\n      <td>process-requested access to-file</td>\n    </tr>\n    <tr>\n      <th>4607</th>\n      <td>[defense-evasion]</td>\n      <td>T1112</td>\n      <td>Modify Registry</td>\n      <td>File</td>\n      <td>file modification</td>\n      <td>process-modified-file</td>\n    </tr>\n    <tr>\n      <th>4608</th>\n      <td>[defense-evasion]</td>\n      <td>T1112</td>\n      <td>Modify Registry</td>\n      <td>File</td>\n      <td>file modification</td>\n      <td>user-modified-file</td>\n    </tr>\n    <tr>\n      <th>4609</th>\n      <td>[defense-evasion]</td>\n      <td>T1112</td>\n      <td>Modify Registry</td>\n      <td>Windows Registry</td>\n      <td>windows registry key creation</td>\n      <td>process-created-windows registry key</td>\n    </tr>\n    <tr>\n      <th>4610</th>\n      <td>[defense-evasion]</td>\n      <td>T1112</td>\n      <td>Modify Registry</td>\n      <td>Windows Registry</td>\n      <td>windows registry key creation</td>\n      <td>process-created-windows registry key value</td>\n    </tr>\n    <tr>\n      <th>4611</th>\n      <td>[defense-evasion]</td>\n      <td>T1112</td>\n      <td>Modify Registry</td>\n      <td>Windows Registry</td>\n      <td>windows registry key deletion</td>\n      <td>user-deleted-windows registry key</td>\n    </tr>\n    <tr>\n      <th>4612</th>\n      <td>[defense-evasion]</td>\n      <td>T1112</td>\n      <td>Modify Registry</td>\n      <td>Windows Registry</td>\n      <td>windows registry key deletion</td>\n      <td>process-deleted-windows registry key</td>\n    </tr>\n    <tr>\n      <th>4613</th>\n      <td>[defense-evasion]</td>\n      <td>T1112</td>\n      <td>Modify Registry</td>\n      <td>Windows Registry</td>\n      <td>windows registry key deletion</td>\n      <td>process-deleted-windows registry key value</td>\n    </tr>\n    <tr>\n      <th>4614</th>\n      <td>[defense-evasion]</td>\n      <td>T1112</td>\n      <td>Modify Registry</td>\n      <td>Windows Registry</td>\n      <td>windows registry key modification</td>\n      <td>process-modified-windows registry key</td>\n    </tr>\n    <tr>\n      <th>4615</th>\n      <td>[defense-evasion]</td>\n      <td>T1112</td>\n      <td>Modify Registry</td>\n      <td>Windows Registry</td>\n      <td>windows registry key modification</td>\n      <td>process-modified-windows registry key value</td>\n    </tr>\n    <tr>\n      <th>4616</th>\n      <td>[defense-evasion]</td>\n      <td>T1112</td>\n      <td>Modify Registry</td>\n      <td>Windows Registry</td>\n      <td>windows registry key modification</td>\n      <td>user-modified-windows registry key</td>\n    </tr>\n    <tr>\n      <th>4617</th>\n      <td>[defense-evasion]</td>\n      <td>T1112</td>\n      <td>Modify Registry</td>\n      <td>Windows Registry</td>\n      <td>windows registry key modification</td>\n      <td>user-modified-windows registry key value</td>\n    </tr>\n    <tr>\n      <th>4618</th>\n      <td>[defense-evasion]</td>\n      <td>T1112</td>\n      <td>Modify Registry</td>\n      <td>Windows Registry</td>\n      <td>Windows registry key access</td>\n      <td>process-accessed-windows registry key</td>\n    </tr>\n    <tr>\n      <th>4619</th>\n      <td>[defense-evasion]</td>\n      <td>T1112</td>\n      <td>Modify Registry</td>\n      <td>Windows Registry</td>\n      <td>Windows registry key access</td>\n      <td>user-accessed-windows registry key</td>\n    </tr>\n    <tr>\n      <th>4620</th>\n      <td>[defense-evasion]</td>\n      <td>T1112</td>\n      <td>Modify Registry</td>\n      <td>Windows Registry</td>\n      <td>Windows registry key access</td>\n      <td>process-requested access to-windows registry key</td>\n    </tr>\n    <tr>\n      <th>4621</th>\n      <td>[defense-evasion]</td>\n      <td>T1112</td>\n      <td>Modify Registry</td>\n      <td>Windows Registry</td>\n      <td>Windows registry key access</td>\n      <td>user-requested access to-windows registry key</td>\n    </tr>\n    <tr>\n      <th>4622</th>\n      <td>[defense-evasion]</td>\n      <td>T1112</td>\n      <td>Modify Registry</td>\n      <td>Process</td>\n      <td>process metadata</td>\n      <td>user-retrieved information about-process</td>\n    </tr>\n    <tr>\n      <th>4623</th>\n      <td>[defense-evasion]</td>\n      <td>T1112</td>\n      <td>Modify Registry</td>\n      <td>Process</td>\n      <td>process creation</td>\n      <td>user-created-process</td>\n    </tr>\n    <tr>\n      <th>4624</th>\n      <td>[defense-evasion]</td>\n      <td>T1112</td>\n      <td>Modify Registry</td>\n      <td>Process</td>\n      <td>process creation</td>\n      <td>process-created-process</td>\n    </tr>\n    <tr>\n      <th>4625</th>\n      <td>[defense-evasion]</td>\n      <td>T1112</td>\n      <td>Modify Registry</td>\n      <td>Process</td>\n      <td>process creation</td>\n      <td>process-created-thread</td>\n    </tr>\n    <tr>\n      <th>4626</th>\n      <td>[defense-evasion]</td>\n      <td>T1112</td>\n      <td>Modify Registry</td>\n      <td>Process</td>\n      <td>process termination</td>\n      <td>user-terminated-process</td>\n    </tr>\n    <tr>\n      <th>4627</th>\n      <td>[defense-evasion]</td>\n      <td>T1112</td>\n      <td>Modify Registry</td>\n      <td>Process</td>\n      <td>process modification</td>\n      <td>process-modified-process</td>\n    </tr>\n    <tr>\n      <th>4628</th>\n      <td>[defense-evasion]</td>\n      <td>T1112</td>\n      <td>Modify Registry</td>\n      <td>Process</td>\n      <td>process access</td>\n      <td>process-accessed-process</td>\n    </tr>\n    <tr>\n      <th>4629</th>\n      <td>[defense-evasion]</td>\n      <td>T1112</td>\n      <td>Modify Registry</td>\n      <td>Process</td>\n      <td>process access</td>\n      <td>process-requested access to-process</td>\n    </tr>\n    <tr>\n      <th>4630</th>\n      <td>[defense-evasion]</td>\n      <td>T1112</td>\n      <td>Modify Registry</td>\n      <td>Process</td>\n      <td>OS api execution</td>\n      <td>process-executed-api call</td>\n    </tr>\n    <tr>\n      <th>4631</th>\n      <td>[defense-evasion]</td>\n      <td>T1112</td>\n      <td>Modify Registry</td>\n      <td>Process</td>\n      <td>OS api execution</td>\n      <td>process-executed-system call</td>\n    </tr>\n    <tr>\n      <th>4632</th>\n      <td>[defense-evasion]</td>\n      <td>T1112</td>\n      <td>Modify Registry</td>\n      <td>Command</td>\n      <td>command execution</td>\n      <td>user-executed-command</td>\n    </tr>\n    <tr>\n      <th>4633</th>\n      <td>[defense-evasion]</td>\n      <td>T1112</td>\n      <td>Modify Registry</td>\n      <td>Command</td>\n      <td>command execution</td>\n      <td>process-executed-command</td>\n    </tr>\n    <tr>\n      <th>4634</th>\n      <td>[defense-evasion]</td>\n      <td>T1112</td>\n      <td>Modify Registry</td>\n      <td>Windows event logs</td>\n      <td>NaN</td>\n      <td>NaN</td>\n    </tr>\n  </tbody>\n</table>\n</div>"
     },
     "metadata": {},
     "execution_count": 11
    }
   ],
   "source": [
    "techniques[techniques['technique_id'] == 'T1112']"
   ]
  },
  {
   "cell_type": "markdown",
   "metadata": {},
   "source": [
    "# Thank you :)"
   ]
  }
 ],
 "metadata": {
  "kernelspec": {
   "name": "python3",
   "display_name": "Python 3.9.2 64-bit",
   "metadata": {
    "interpreter": {
     "hash": "01ff218a1150c63991e192507b67669b395017327636807f98fdac9b0b091f04"
    }
   }
  },
  "language_info": {
   "codemirror_mode": {
    "name": "ipython",
    "version": 3
   },
   "file_extension": ".py",
   "mimetype": "text/x-python",
   "name": "python",
   "nbconvert_exporter": "python",
   "pygments_lexer": "ipython3",
   "version": "3.9.2-final"
  }
 },
 "nbformat": 4,
 "nbformat_minor": 4
}